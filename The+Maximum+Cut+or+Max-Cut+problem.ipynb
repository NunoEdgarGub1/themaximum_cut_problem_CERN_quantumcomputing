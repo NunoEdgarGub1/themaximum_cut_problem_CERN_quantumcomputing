{
 "cells": [
  {
   "attachments": {},
   "cell_type": "markdown",
   "metadata": {
    "collapsed": true
   },
   "source": [
    "\n",
    "# The Maximum Cut or Max-Cut problem\n",
    "\n",
    "• Consider the problem of dividing the vertices of a graph\n",
    "into two sets such that the number of edges with extremes\n",
    "in both sets is the maximum possible\n",
    "\n",
    "• It can be proved that this problem, called “maximum cut” or\n",
    "“Max-Cut”, is NP-hard\n",
    "\n",
    "• It is also APX-Hard and thus there is no (classical)\n",
    "polynomial-time approximation scheme (PTAS) which gets\n",
    "arbitrarily close to the solution (unless P = NP)\n",
    "\n",
    "\n",
    "!800px-Max-cut.svg.png](attachment:800px-Max-cut.svg.png)  "
   ]
  },
  {
   "cell_type": "code",
   "execution_count": null,
   "metadata": {},
   "outputs": [],
   "source": [
    "!pip install dimod\n",
    "import numpy as np\n",
    "import dimod\n",
    "\n",
    "# State the problem that we want to solve is very easy\n",
    "# We will start with a simple case\n",
    "\n",
    "J = {(0,1):1}\n",
    "\n",
    "h = {}\n",
    "model = dimod.BinaryQuadraticModel(h, J, 0.0, dimod.SPIN)\n",
    "\n",
    "print(\"The model that we are going to solve is\")\n",
    "print(model)\n",
    "print()\n",
    "\n",
    "# We can solve it exactly\n",
    "\n",
    "from dimod.reference.samplers import ExactSolver\n",
    "sampler = ExactSolver()\n",
    "solution = sampler.sample(model)\n",
    "print(\"The exact solution is\")\n",
    "print(solution)\n",
    "print()\n",
    "\n",
    "\n"
   ]
  },
  {
   "cell_type": "code",
   "execution_count": 17,
   "metadata": {},
   "outputs": [
    {
     "name": "stdout",
     "output_type": "stream",
     "text": [
      "Requirement already satisfied: dwave-system in c:\\users\\utilizador\\anaconda\\lib\\site-packages\n",
      "Requirement already satisfied: dwave-cloud-client<0.9.0,>=0.8.4 in c:\\users\\utilizador\\anaconda\\lib\\site-packages (from dwave-system)\n",
      "Requirement already satisfied: numpy<2.0.0,>=1.14.0 in c:\\users\\utilizador\\anaconda\\lib\\site-packages (from dwave-system)\n",
      "Requirement already satisfied: networkx<3.0,>=2.0 in c:\\users\\utilizador\\anaconda\\lib\\site-packages (from dwave-system)\n",
      "Requirement already satisfied: dwave-tabu>=0.2.0 in c:\\users\\utilizador\\anaconda\\lib\\site-packages (from dwave-system)\n",
      "Requirement already satisfied: dimod<0.10.0,>=0.9.11 in c:\\users\\utilizador\\anaconda\\lib\\site-packages (from dwave-system)\n",
      "Requirement already satisfied: dwave-networkx>=0.8.4 in c:\\users\\utilizador\\anaconda\\lib\\site-packages (from dwave-system)\n",
      "Requirement already satisfied: homebase<2.0.0,>=1.0.0 in c:\\users\\utilizador\\anaconda\\lib\\site-packages (from dwave-system)\n",
      "Requirement already satisfied: minorminer<0.3.0,>=0.2.4 in c:\\users\\utilizador\\anaconda\\lib\\site-packages (from dwave-system)\n",
      "Requirement already satisfied: requests[socks]>=2.18 in c:\\users\\utilizador\\anaconda\\lib\\site-packages (from dwave-cloud-client<0.9.0,>=0.8.4->dwave-system)\n",
      "Requirement already satisfied: plucky>=0.4.3 in c:\\users\\utilizador\\anaconda\\lib\\site-packages (from dwave-cloud-client<0.9.0,>=0.8.4->dwave-system)\n",
      "Requirement already satisfied: click>=7.0 in c:\\users\\utilizador\\anaconda\\lib\\site-packages (from dwave-cloud-client<0.9.0,>=0.8.4->dwave-system)\n",
      "Requirement already satisfied: python-dateutil>=2.7 in c:\\users\\utilizador\\anaconda\\lib\\site-packages (from dwave-cloud-client<0.9.0,>=0.8.4->dwave-system)\n",
      "Requirement already satisfied: decorator>=4.3.0 in c:\\users\\utilizador\\anaconda\\lib\\site-packages (from networkx<3.0,>=2.0->dwave-system)\n",
      "Requirement already satisfied: scipy in c:\\users\\utilizador\\anaconda\\lib\\site-packages (from minorminer<0.3.0,>=0.2.4->dwave-system)\n",
      "Requirement already satisfied: fasteners in c:\\users\\utilizador\\anaconda\\lib\\site-packages (from minorminer<0.3.0,>=0.2.4->dwave-system)\n",
      "Requirement already satisfied: chardet<3.1.0,>=3.0.2 in c:\\users\\utilizador\\anaconda\\lib\\site-packages (from requests[socks]>=2.18->dwave-cloud-client<0.9.0,>=0.8.4->dwave-system)\n",
      "Requirement already satisfied: idna<2.7,>=2.5 in c:\\users\\utilizador\\anaconda\\lib\\site-packages (from requests[socks]>=2.18->dwave-cloud-client<0.9.0,>=0.8.4->dwave-system)\n",
      "Requirement already satisfied: urllib3<1.23,>=1.21.1 in c:\\users\\utilizador\\anaconda\\lib\\site-packages (from requests[socks]>=2.18->dwave-cloud-client<0.9.0,>=0.8.4->dwave-system)\n",
      "Requirement already satisfied: certifi>=2017.4.17 in c:\\users\\utilizador\\anaconda\\lib\\site-packages (from requests[socks]>=2.18->dwave-cloud-client<0.9.0,>=0.8.4->dwave-system)\n",
      "Requirement already satisfied: PySocks!=1.5.7,>=1.5.6 in c:\\users\\utilizador\\anaconda\\lib\\site-packages (from requests[socks]>=2.18->dwave-cloud-client<0.9.0,>=0.8.4->dwave-system)\n",
      "Requirement already satisfied: six>=1.5 in c:\\users\\utilizador\\appdata\\roaming\\python\\python36\\site-packages (from python-dateutil>=2.7->dwave-cloud-client<0.9.0,>=0.8.4->dwave-system)\n"
     ]
    },
    {
     "name": "stderr",
     "output_type": "stream",
     "text": [
      "You are using pip version 9.0.1, however version 20.3.3 is available.\n",
      "You should consider upgrading via the 'python -m pip install --upgrade pip' command.\n"
     ]
    },
    {
     "name": "stdout",
     "output_type": "stream",
     "text": [
      "Requirement already satisfied: dwave-system[drivers] in c:\\users\\utilizador\\anaconda\\lib\\site-packages\n",
      "Requirement already satisfied: numpy<2.0.0,>=1.14.0 in c:\\users\\utilizador\\anaconda\\lib\\site-packages (from dwave-system[drivers])\n",
      "Requirement already satisfied: dwave-tabu>=0.2.0 in c:\\users\\utilizador\\anaconda\\lib\\site-packages (from dwave-system[drivers])\n",
      "Requirement already satisfied: networkx<3.0,>=2.0 in c:\\users\\utilizador\\anaconda\\lib\\site-packages (from dwave-system[drivers])\n",
      "Requirement already satisfied: homebase<2.0.0,>=1.0.0 in c:\\users\\utilizador\\anaconda\\lib\\site-packages (from dwave-system[drivers])\n",
      "Requirement already satisfied: dwave-cloud-client<0.9.0,>=0.8.4 in c:\\users\\utilizador\\anaconda\\lib\\site-packages (from dwave-system[drivers])\n",
      "Requirement already satisfied: dwave-networkx>=0.8.4 in c:\\users\\utilizador\\anaconda\\lib\\site-packages (from dwave-system[drivers])\n",
      "Requirement already satisfied: dimod<0.10.0,>=0.9.11 in c:\\users\\utilizador\\anaconda\\lib\\site-packages (from dwave-system[drivers])\n",
      "Requirement already satisfied: minorminer<0.3.0,>=0.2.4 in c:\\users\\utilizador\\anaconda\\lib\\site-packages (from dwave-system[drivers])\n",
      "Collecting dwave-drivers<0.5.0,>=0.4.0; extra == \"drivers\" (from dwave-system[drivers])\n"
     ]
    },
    {
     "name": "stderr",
     "output_type": "stream",
     "text": [
      "  Could not find a version that satisfies the requirement dwave-drivers<0.5.0,>=0.4.0; extra == \"drivers\" (from dwave-system[drivers]) (from versions: )\n",
      "No matching distribution found for dwave-drivers<0.5.0,>=0.4.0; extra == \"drivers\" (from dwave-system[drivers])\n",
      "You are using pip version 9.0.1, however version 20.3.3 is available.\n",
      "You should consider upgrading via the 'python -m pip install --upgrade pip' command.\n"
     ]
    },
    {
     "ename": "ModuleNotFoundError",
     "evalue": "No module named 'dwave.drivers'",
     "output_type": "error",
     "traceback": [
      "\u001b[1;31m---------------------------------------------------------------------------\u001b[0m",
      "\u001b[1;31mModuleNotFoundError\u001b[0m                       Traceback (most recent call last)",
      "\u001b[1;32m<ipython-input-17-dc5e16f816ae>\u001b[0m in \u001b[0;36m<module>\u001b[1;34m()\u001b[0m\n\u001b[0;32m      3\u001b[0m \u001b[0mget_ipython\u001b[0m\u001b[1;33m(\u001b[0m\u001b[1;33m)\u001b[0m\u001b[1;33m.\u001b[0m\u001b[0msystem\u001b[0m\u001b[1;33m(\u001b[0m\u001b[1;34m'pip install dwave-system'\u001b[0m\u001b[1;33m)\u001b[0m\u001b[1;33m\u001b[0m\u001b[0m\n\u001b[0;32m      4\u001b[0m \u001b[0mget_ipython\u001b[0m\u001b[1;33m(\u001b[0m\u001b[1;33m)\u001b[0m\u001b[1;33m.\u001b[0m\u001b[0msystem\u001b[0m\u001b[1;33m(\u001b[0m\u001b[1;34m'pip install dwave-system[drivers] '\u001b[0m\u001b[1;33m)\u001b[0m\u001b[1;33m\u001b[0m\u001b[0m\n\u001b[1;32m----> 5\u001b[1;33m \u001b[1;32mfrom\u001b[0m \u001b[0mdwave\u001b[0m\u001b[1;33m.\u001b[0m\u001b[0mdrivers\u001b[0m \u001b[1;32mimport\u001b[0m \u001b[0m__license__\u001b[0m\u001b[1;33m\u001b[0m\u001b[0m\n\u001b[0m\u001b[0;32m      6\u001b[0m \u001b[0mprint\u001b[0m\u001b[1;33m(\u001b[0m\u001b[0m__license__\u001b[0m\u001b[1;33m)\u001b[0m\u001b[1;33m\u001b[0m\u001b[0m\n\u001b[0;32m      7\u001b[0m \u001b[1;33m\u001b[0m\u001b[0m\n",
      "\u001b[1;31mModuleNotFoundError\u001b[0m: No module named 'dwave.drivers'"
     ]
    }
   ],
   "source": [
    "# And, of course, with D-Wave's quantum computer \n",
    "\n",
    "!pip install dwave-system\n",
    "!pip install dwave-system[drivers] \n",
    "from dwave.drivers import __license__\n",
    "print(__license__)\n",
    "\n",
    "from dwave.system.samplers import DWaveSampler\n",
    "from dwave.system.composites import EmbeddingComposite\n",
    "sampler = EmbeddingComposite(DWaveSampler())\n",
    "sampler_name = sampler.properties['child_properties']['chip_id']\n",
    "response = sampler.sample(model, num_reads=5000)\n",
    "print(\"The solution obtained by D-Wave's quantum annealer\",sampler_name,\"is\")\n",
    "print(response)\n",
    "print()\n",
    "\n",
    "print()\n",
    "print()\n",
    "print()\n"
   ]
  },
  {
   "cell_type": "code",
   "execution_count": 18,
   "metadata": {},
   "outputs": [
    {
     "name": "stdout",
     "output_type": "stream",
     "text": [
      "The model that we are going to solve is\n",
      "BinaryQuadraticModel({0: 0.0, 1: 0.0, 2: 0.0, 3: 0.0, 4: 0.0}, {(0, 1): 1, (0, 2): 1, (1, 2): 1, (1, 3): 1, (2, 4): 1, (3, 4): 1}, 0.0, 'SPIN')\n",
      "\n"
     ]
    }
   ],
   "source": [
    "# Let us now see a more complicated case \n",
    "\n",
    "J = {(0,1):1,(0,2):1,(1,2):1,(1,3):1,(2,4):1,(3,4):1}\n",
    "h = {}\n",
    "model = dimod.BinaryQuadraticModel(h, J, 0.0, dimod.SPIN)\n",
    "print(\"The model that we are going to solve is\")\n",
    "print(model)\n",
    "print()"
   ]
  },
  {
   "cell_type": "code",
   "execution_count": 19,
   "metadata": {},
   "outputs": [
    {
     "name": "stdout",
     "output_type": "stream",
     "text": [
      "The exact solution is\n",
      "    0  1  2  3  4 energy num_oc.\n",
      "8  -1 -1 +1 +1 -1   -4.0       1\n",
      "9  +1 -1 +1 +1 -1   -4.0       1\n",
      "28 -1 +1 -1 -1 +1   -4.0       1\n",
      "29 +1 +1 -1 -1 +1   -4.0       1\n",
      "4  -1 +1 +1 -1 -1   -2.0       1\n",
      "11 -1 +1 +1 +1 -1   -2.0       1\n",
      "14 +1 -1 -1 +1 -1   -2.0       1\n",
      "17 +1 -1 -1 +1 +1   -2.0       1\n",
      "27 -1 +1 +1 -1 +1   -2.0       1\n",
      "30 +1 -1 -1 -1 +1   -2.0       1\n",
      "2  +1 +1 -1 -1 -1    0.0       1\n",
      "3  -1 +1 -1 -1 -1    0.0       1\n",
      "6  +1 -1 +1 -1 -1    0.0       1\n",
      "7  -1 -1 +1 -1 -1    0.0       1\n",
      "12 -1 +1 -1 +1 -1    0.0       1\n",
      "13 +1 +1 -1 +1 -1    0.0       1\n",
      "18 +1 +1 -1 +1 +1    0.0       1\n",
      "19 -1 +1 -1 +1 +1    0.0       1\n",
      "22 +1 -1 +1 +1 +1    0.0       1\n",
      "23 -1 -1 +1 +1 +1    0.0       1\n",
      "24 -1 -1 +1 -1 +1    0.0       1\n",
      "25 +1 -1 +1 -1 +1    0.0       1\n",
      "1  +1 -1 -1 -1 -1    2.0       1\n",
      "5  +1 +1 +1 -1 -1    2.0       1\n",
      "10 +1 +1 +1 +1 -1    2.0       1\n",
      "15 -1 -1 -1 +1 -1    2.0       1\n",
      "16 -1 -1 -1 +1 +1    2.0       1\n",
      "20 -1 +1 +1 +1 +1    2.0       1\n",
      "26 +1 +1 +1 -1 +1    2.0       1\n",
      "31 -1 -1 -1 -1 +1    2.0       1\n",
      "0  -1 -1 -1 -1 -1    6.0       1\n",
      "21 +1 +1 +1 +1 +1    6.0       1\n",
      "['SPIN', 32 rows, 32 samples, 5 variables]\n",
      "\n"
     ]
    }
   ],
   "source": [
    "# First, we solve it exactly\n",
    "\n",
    "sampler = ExactSolver()\n",
    "solution = sampler.sample(model)\n",
    "print(\"The exact solution is\")\n",
    "print(solution)\n",
    "print()"
   ]
  },
  {
   "cell_type": "code",
   "execution_count": 20,
   "metadata": {},
   "outputs": [
    {
     "name": "stdout",
     "output_type": "stream",
     "text": [
      "The solution with simulated annealing is\n",
      "   0  1  2  3  4 energy num_oc.\n",
      "0 -1 -1 +1 +1 -1   -4.0       1\n",
      "1 -1 +1 -1 -1 +1   -4.0       1\n",
      "2 +1 -1 +1 +1 -1   -4.0       1\n",
      "3 -1 -1 +1 +1 -1   -4.0       1\n",
      "4 +1 -1 +1 +1 -1   -4.0       1\n",
      "5 +1 +1 -1 -1 +1   -4.0       1\n",
      "6 -1 -1 +1 +1 -1   -4.0       1\n",
      "7 +1 -1 +1 +1 -1   -4.0       1\n",
      "8 +1 +1 -1 -1 +1   -4.0       1\n",
      "9 -1 -1 +1 +1 -1   -4.0       1\n",
      "['SPIN', 10 rows, 10 samples, 5 variables]\n",
      "\n"
     ]
    }
   ],
   "source": [
    "# Now, with *simulated annealing*\n",
    "\n",
    "sampler = dimod.SimulatedAnnealingSampler()\n",
    "response = sampler.sample(model, num_reads=10)\n",
    "print(\"The solution with simulated annealing is\")\n",
    "print(response)\n",
    "print()\n"
   ]
  },
  {
   "cell_type": "code",
   "execution_count": 21,
   "metadata": {},
   "outputs": [
    {
     "ename": "NameError",
     "evalue": "name 'EmbeddingComposite' is not defined",
     "output_type": "error",
     "traceback": [
      "\u001b[1;31m---------------------------------------------------------------------------\u001b[0m",
      "\u001b[1;31mNameError\u001b[0m                                 Traceback (most recent call last)",
      "\u001b[1;32m<ipython-input-21-e4f3104b7f22>\u001b[0m in \u001b[0;36m<module>\u001b[1;34m()\u001b[0m\n\u001b[0;32m      1\u001b[0m \u001b[1;31m# Finally, we use the *quantum annealer* again\u001b[0m\u001b[1;33m\u001b[0m\u001b[1;33m\u001b[0m\u001b[0m\n\u001b[0;32m      2\u001b[0m \u001b[1;33m\u001b[0m\u001b[0m\n\u001b[1;32m----> 3\u001b[1;33m \u001b[0msampler\u001b[0m \u001b[1;33m=\u001b[0m \u001b[0mEmbeddingComposite\u001b[0m\u001b[1;33m(\u001b[0m\u001b[0mDWaveSampler\u001b[0m\u001b[1;33m(\u001b[0m\u001b[0msolver\u001b[0m\u001b[1;33m=\u001b[0m\u001b[1;34m'Advantage_system1.1'\u001b[0m\u001b[1;33m)\u001b[0m\u001b[1;33m)\u001b[0m\u001b[1;33m\u001b[0m\u001b[0m\n\u001b[0m\u001b[0;32m      4\u001b[0m \u001b[0msampler_name\u001b[0m \u001b[1;33m=\u001b[0m \u001b[0msampler\u001b[0m\u001b[1;33m.\u001b[0m\u001b[0mproperties\u001b[0m\u001b[1;33m[\u001b[0m\u001b[1;34m'child_properties'\u001b[0m\u001b[1;33m]\u001b[0m\u001b[1;33m[\u001b[0m\u001b[1;34m'chip_id'\u001b[0m\u001b[1;33m]\u001b[0m\u001b[1;33m\u001b[0m\u001b[0m\n\u001b[0;32m      5\u001b[0m \u001b[0mresponse\u001b[0m \u001b[1;33m=\u001b[0m \u001b[0msampler\u001b[0m\u001b[1;33m.\u001b[0m\u001b[0msample\u001b[0m\u001b[1;33m(\u001b[0m\u001b[0mmodel\u001b[0m\u001b[1;33m,\u001b[0m \u001b[0mnum_reads\u001b[0m\u001b[1;33m=\u001b[0m\u001b[1;36m5000\u001b[0m\u001b[1;33m)\u001b[0m\u001b[1;33m\u001b[0m\u001b[0m\n",
      "\u001b[1;31mNameError\u001b[0m: name 'EmbeddingComposite' is not defined"
     ]
    }
   ],
   "source": [
    "# Finally, we use the *quantum annealer* again\n",
    "\n",
    "sampler = EmbeddingComposite(DWaveSampler(solver='Advantage_system1.1'))\n",
    "sampler_name = sampler.properties['child_properties']['chip_id']\n",
    "response = sampler.sample(model, num_reads=5000)\n",
    "print(\"The solution obtained by D-Wave's quantum annealer\",sampler_name,\"is\")\n",
    "print(response)\n",
    "print()\n"
   ]
  },
  {
   "cell_type": "code",
   "execution_count": null,
   "metadata": {
    "collapsed": true
   },
   "outputs": [],
   "source": []
  }
 ],
 "metadata": {
  "kernelspec": {
   "display_name": "Python 3",
   "language": "python",
   "name": "python3"
  },
  "language_info": {
   "codemirror_mode": {
    "name": "ipython",
    "version": 3
   },
   "file_extension": ".py",
   "mimetype": "text/x-python",
   "name": "python",
   "nbconvert_exporter": "python",
   "pygments_lexer": "ipython3",
   "version": "3.6.3"
  }
 },
 "nbformat": 4,
 "nbformat_minor": 2
}
